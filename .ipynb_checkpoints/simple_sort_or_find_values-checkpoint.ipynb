{
 "cells": [
  {
   "cell_type": "markdown",
   "id": "31640fbe",
   "metadata": {},
   "source": [
    "## Find Top K frequent element in a list\n",
    "\n",
    "### Example \n",
    "    \n",
    "###### K.           : [ 2 ]\n",
    "###### Input     : [3 ,2 ,2 ,4 ,2 ,5 ,3 ,6 ,2 ,4, 5, 5]\n",
    "###### Output : [2, 5] "
   ]
  },
  {
   "cell_type": "code",
   "execution_count": 114,
   "id": "695f88ac",
   "metadata": {},
   "outputs": [],
   "source": [
    "def most_frequent_nums (nums, k):\n",
    "    count = {}\n",
    "    ret = []\n",
    "    \n",
    "    for i in nums:\n",
    "        if i not in count:\n",
    "            count[i] = 1\n",
    "        \n",
    "        else:\n",
    "            count[i] += 1\n",
    "            \n",
    "    while k > 0:\n",
    "        max_freq = 0\n",
    "        max_key = 0\n",
    "        \n",
    "        for j in count:\n",
    "            if count[j] > max_freq:\n",
    "                max_freq = count[j]\n",
    "                max_key = j\n",
    "                \n",
    "        ret.append(max_key)\n",
    "        del count[max_key]\n",
    "        k -=1\n",
    "    return ret"
   ]
  },
  {
   "cell_type": "code",
   "execution_count": 115,
   "id": "aa672c7f",
   "metadata": {},
   "outputs": [
    {
     "data": {
      "text/plain": [
       "[2, 5]"
      ]
     },
     "execution_count": 115,
     "metadata": {},
     "output_type": "execute_result"
    }
   ],
   "source": [
    "most_frequent_nums([3 ,2 ,2 ,4 ,2 ,5 ,3 ,6 ,2 ,4, 5, 5],2)"
   ]
  },
  {
   "cell_type": "code",
   "execution_count": 118,
   "id": "69a90c89",
   "metadata": {},
   "outputs": [
    {
     "data": {
      "text/plain": [
       "[2, 1, 5, 3]"
      ]
     },
     "execution_count": 118,
     "metadata": {},
     "output_type": "execute_result"
    }
   ],
   "source": [
    "most_frequent_nums([4,4,4,1,1,1,1,1,2,2,2,2,3,3,3,3,5,5,5,5,5,2,2,2],4)"
   ]
  },
  {
   "cell_type": "markdown",
   "id": "6d20d150",
   "metadata": {},
   "source": [
    "## Find most frequent word in text\n",
    "\n",
    "### Example \n",
    "\n",
    "##### THE TRAGEDY OF HAMLET, PRINCE OF DENMARK by William Shakespeare\n",
    "###### K.           : [ 3 ]\n",
    "###### Input     : 'HAMLET.txt'\n",
    "###### Output : [['the', 1083], ['and', 939], ['to', 727]]"
   ]
  },
  {
   "cell_type": "code",
   "execution_count": 109,
   "id": "a9454719",
   "metadata": {},
   "outputs": [],
   "source": [
    "def most_frequent_words (txts, k):\n",
    "     \n",
    "    words = {}\n",
    "    ret = []\n",
    "    \n",
    "    with open (txts,'r') as fr:\n",
    "        for line in fr:\n",
    "            for word in line.lower().strip().split():\n",
    "            \n",
    "                if word not in words:\n",
    "                    words[word] = 1\n",
    "            \n",
    "                else:\n",
    "                    words[word] += 1\n",
    "    while k > 0:\n",
    "        max_freq = 0\n",
    "        max_key = 0\n",
    "        \n",
    "        for j in words:\n",
    "            if words[j] > max_freq:\n",
    "                max_freq = words[j]\n",
    "                max_key = j\n",
    "                \n",
    "        ret.append([max_key, max_freq])\n",
    "        del words[max_key]\n",
    "        k -=1\n",
    "            \n",
    "\n",
    "    return ret\n",
    "            "
   ]
  },
  {
   "cell_type": "code",
   "execution_count": 111,
   "id": "9b219dfb",
   "metadata": {},
   "outputs": [
    {
     "data": {
      "text/plain": [
       "[['the', 1083], ['and', 939], ['to', 727]]"
      ]
     },
     "execution_count": 111,
     "metadata": {},
     "output_type": "execute_result"
    }
   ],
   "source": [
    "most_frequent_words('HAMLET.txt',3)"
   ]
  },
  {
   "cell_type": "code",
   "execution_count": 112,
   "id": "65553c39",
   "metadata": {},
   "outputs": [
    {
     "data": {
      "text/plain": [
       "[['the', 1083], ['and', 939], ['to', 727], ['of', 670], ['a', 540]]"
      ]
     },
     "execution_count": 112,
     "metadata": {},
     "output_type": "execute_result"
    }
   ],
   "source": [
    "most_frequent_words('HAMLET.txt',5)"
   ]
  },
  {
   "cell_type": "markdown",
   "id": "684e2d67",
   "metadata": {},
   "source": [
    "## Shorten URL"
   ]
  },
  {
   "cell_type": "code",
   "execution_count": 275,
   "id": "4feed9e9",
   "metadata": {},
   "outputs": [],
   "source": [
    "class new_URL:\n",
    "    \n",
    "    start = 10000000000\n",
    "    dic = {}\n",
    "    \n",
    "    def shorten_url (self, old):\n",
    "        if old in self.dic:\n",
    "            start = self.dic[old]\n",
    "            new = self.make_new(start)\n",
    "            \n",
    "        else:\n",
    "            self.dic[old] = self.start\n",
    "            new = self.make_new(self.start)\n",
    "            self.start += 1\n",
    "        \n",
    "        return \"www.new_URL.com/\"+ new\n",
    "    \n",
    "    def make_new(self, start):\n",
    "        \n",
    "        scale = \"0123456789abcdefghijklmnopqrstuvwxyz\"\n",
    "        num = len(scale)\n",
    "        ret = []\n",
    "        \n",
    "        while start > 0 :\n",
    "            val = start % num\n",
    "            ret.append(scale[val])\n",
    "            start = start // num\n",
    "            \n",
    "        return \"\".join(ret[::-1])"
   ]
  },
  {
   "cell_type": "code",
   "execution_count": 276,
   "id": "a09dc10c",
   "metadata": {},
   "outputs": [
    {
     "name": "stdout",
     "output_type": "stream",
     "text": [
      "www.new_URL.com/4ldqpds\n",
      "www.new_URL.com/4ldqpds\n",
      "www.new_URL.com/4ldqpdt\n"
     ]
    }
   ],
   "source": [
    "\n",
    "new = new_URL()\n",
    "print(new.shorten_url(\"https://www.linkedin.com/in/hyungtaeg-oh-93071086/\"))\n",
    "print(new.shorten_url(\"https://www.linkedin.com/in/hyungtaeg-oh-93071086/\"))\n",
    "print(new.shorten_url(\"www.abcdefghijklmnopqrstuvwxyz.com/ohtack1234567890/yes/\"))\n",
    "                      \n",
    "                      \n",
    "                      "
   ]
  },
  {
   "cell_type": "code",
   "execution_count": 249,
   "id": "c3edd207",
   "metadata": {},
   "outputs": [],
   "source": [
    "class URL_Shortener:\n",
    "    \n",
    "    id = 10000000000\n",
    "    url2id = {}\n",
    "    \n",
    "    def shorten_url(self, original_url):\n",
    "        if original_url in self.url2id:\n",
    "            id = self.url2id[original_url]\n",
    "            shorten_url = self.encode(id)\n",
    "        else:\n",
    "        \n",
    "            self.url2id[original_url] = self.id\n",
    "            shorten_url = self.encode(self.id)\n",
    "            self.id += 1\n",
    "        \n",
    "        return \"short_url.com/\"+shorten_url\n",
    "    \n",
    "    def encode(self, id):\n",
    "        # base 62 characters\n",
    "        characters = \"0123456789abcdefghijklmnopqrstuvwxyzABCDEFGHIJKLMNOPQRSTUVWXYZ\"\n",
    "        base = len(characters)\n",
    "        ret = []\n",
    "        \n",
    "        while id > 0:\n",
    "            val = id % base\n",
    "            ret.append(characters[val])\n",
    "            id = id // base\n",
    "        \n",
    "        return \"\".join(ret[::-1])\n"
   ]
  },
  {
   "cell_type": "code",
   "execution_count": 250,
   "id": "23154935",
   "metadata": {},
   "outputs": [
    {
     "name": "stdout",
     "output_type": "stream",
     "text": [
      "short_url.com/aUKYOA\n"
     ]
    }
   ],
   "source": [
    "a = URL_Shortener()\n",
    "print(a.shorten_url('www.gooooooogle.com'))"
   ]
  },
  {
   "cell_type": "code",
   "execution_count": null,
   "id": "072f304d",
   "metadata": {},
   "outputs": [],
   "source": []
  }
 ],
 "metadata": {
  "kernelspec": {
   "display_name": "Python 3",
   "language": "python",
   "name": "python3"
  },
  "language_info": {
   "codemirror_mode": {
    "name": "ipython",
    "version": 3
   },
   "file_extension": ".py",
   "mimetype": "text/x-python",
   "name": "python",
   "nbconvert_exporter": "python",
   "pygments_lexer": "ipython3",
   "version": "3.8.8"
  }
 },
 "nbformat": 4,
 "nbformat_minor": 5
}
