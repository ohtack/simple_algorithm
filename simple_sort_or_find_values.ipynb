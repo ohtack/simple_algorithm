{
 "cells": [
  {
   "cell_type": "markdown",
   "id": "f100a1cd",
   "metadata": {},
   "source": [
    "## Find Top K frequent element in a list\n",
    "\n",
    "### Example \n",
    "    \n",
    "###### K.           : [ 2 ]\n",
    "###### Input     : [3 ,2 ,2 ,4 ,2 ,5 ,3 ,6 ,2 ,4, 5, 5]\n",
    "###### Output : [2, 5] "
   ]
  },
  {
   "cell_type": "code",
   "execution_count": 114,
   "id": "4e3706c1",
   "metadata": {},
   "outputs": [],
   "source": [
    "def most_frequent_nums (nums, k):\n",
    "    count = {}\n",
    "    ret = []\n",
    "    \n",
    "    for i in nums:\n",
    "        if i not in count:\n",
    "            count[i] = 1\n",
    "        \n",
    "        else:\n",
    "            count[i] += 1\n",
    "            \n",
    "    while k > 0:\n",
    "        max_freq = 0\n",
    "        max_key = 0\n",
    "        \n",
    "        for j in count:\n",
    "            if count[j] > max_freq:\n",
    "                max_freq = count[j]\n",
    "                max_key = j\n",
    "                \n",
    "        ret.append(max_key)\n",
    "        del count[max_key]\n",
    "        k -=1\n",
    "    return ret"
   ]
  },
  {
   "cell_type": "code",
   "execution_count": 115,
   "id": "abd87ece",
   "metadata": {},
   "outputs": [
    {
     "data": {
      "text/plain": [
       "[2, 5]"
      ]
     },
     "execution_count": 115,
     "metadata": {},
     "output_type": "execute_result"
    }
   ],
   "source": [
    "most_frequent_nums([3 ,2 ,2 ,4 ,2 ,5 ,3 ,6 ,2 ,4, 5, 5],2)"
   ]
  },
  {
   "cell_type": "code",
   "execution_count": 118,
   "id": "e636aef6",
   "metadata": {},
   "outputs": [
    {
     "data": {
      "text/plain": [
       "[2, 1, 5, 3]"
      ]
     },
     "execution_count": 118,
     "metadata": {},
     "output_type": "execute_result"
    }
   ],
   "source": [
    "most_frequent_nums([4,4,4,1,1,1,1,1,2,2,2,2,3,3,3,3,5,5,5,5,5,2,2,2],4)"
   ]
  },
  {
   "cell_type": "markdown",
   "id": "232abc70",
   "metadata": {},
   "source": [
    "## Find most frequent word in text\n",
    "\n",
    "### Example \n",
    "\n",
    "##### THE TRAGEDY OF HAMLET, PRINCE OF DENMARK by William Shakespeare\n",
    "###### K.           : [ 3 ]\n",
    "###### Input     : 'HAMLET.txt'\n",
    "###### Output : [['the', 1083], ['and', 939], ['to', 727]]"
   ]
  },
  {
   "cell_type": "code",
   "execution_count": 109,
   "id": "cbff13d3",
   "metadata": {},
   "outputs": [],
   "source": [
    "def most_frequent_words (txts, k):\n",
    "     \n",
    "    words = {}\n",
    "    ret = []\n",
    "    \n",
    "    with open (txts,'r') as fr:\n",
    "        for line in fr:\n",
    "            for word in line.lower().strip().split():\n",
    "            \n",
    "                if word not in words:\n",
    "                    words[word] = 1\n",
    "            \n",
    "                else:\n",
    "                    words[word] += 1\n",
    "    while k > 0:\n",
    "        max_freq = 0\n",
    "        max_key = 0\n",
    "        \n",
    "        for j in words:\n",
    "            if words[j] > max_freq:\n",
    "                max_freq = words[j]\n",
    "                max_key = j\n",
    "                \n",
    "        ret.append([max_key, max_freq])\n",
    "        del words[max_key]\n",
    "        k -=1\n",
    "            \n",
    "\n",
    "    return ret\n",
    "            "
   ]
  },
  {
   "cell_type": "code",
   "execution_count": 111,
   "id": "b64cf1d7",
   "metadata": {},
   "outputs": [
    {
     "data": {
      "text/plain": [
       "[['the', 1083], ['and', 939], ['to', 727]]"
      ]
     },
     "execution_count": 111,
     "metadata": {},
     "output_type": "execute_result"
    }
   ],
   "source": [
    "most_frequent_words('HAMLET.txt',3)"
   ]
  },
  {
   "cell_type": "code",
   "execution_count": 112,
   "id": "1f529bc7",
   "metadata": {},
   "outputs": [
    {
     "data": {
      "text/plain": [
       "[['the', 1083], ['and', 939], ['to', 727], ['of', 670], ['a', 540]]"
      ]
     },
     "execution_count": 112,
     "metadata": {},
     "output_type": "execute_result"
    }
   ],
   "source": [
    "most_frequent_words('HAMLET.txt',5)"
   ]
  },
  {
   "cell_type": "markdown",
   "id": "1b865a88",
   "metadata": {},
   "source": [
    "## Shorten URL\n",
    "\n",
    "### Example \n",
    "\n",
    "###### Input     : \"https://www.linkedin.com/in/hyungtaeg-oh-93071086/\"\n",
    "###### Output : \"www.new_URL.com/4ldqpds\""
   ]
  },
  {
   "cell_type": "code",
   "execution_count": 277,
   "id": "181f23f7",
   "metadata": {},
   "outputs": [],
   "source": [
    "class new_URL:\n",
    "    \n",
    "    start = 10000000000\n",
    "    dic = {}\n",
    "    \n",
    "    def shorten_url (self, old):\n",
    "        if old in self.dic:\n",
    "            start = self.dic[old]\n",
    "            new = self.make_new(start)\n",
    "            \n",
    "        else:\n",
    "            self.dic[old] = self.start\n",
    "            new = self.make_new(self.start)\n",
    "            self.start += 1\n",
    "        \n",
    "        return \"www.new_URL.com/\"+ new\n",
    "    \n",
    "    def make_new(self, start):\n",
    "        \n",
    "        scale = \"0123456789abcdefghijklmnopqrstuvwxyz\"\n",
    "        num = len(scale)\n",
    "        ret = []\n",
    "        \n",
    "        while start > 0 :\n",
    "            val = start % num\n",
    "            ret.append(scale[val])\n",
    "            start = start // num\n",
    "            \n",
    "        return \"\".join(ret[::-1])"
   ]
  },
  {
   "cell_type": "code",
   "execution_count": 276,
   "id": "56509d80",
   "metadata": {},
   "outputs": [
    {
     "name": "stdout",
     "output_type": "stream",
     "text": [
      "www.new_URL.com/4ldqpds\n",
      "www.new_URL.com/4ldqpds\n",
      "www.new_URL.com/4ldqpdt\n"
     ]
    }
   ],
   "source": [
    "\n",
    "new = new_URL()\n",
    "print(new.shorten_url(\"https://www.linkedin.com/in/hyungtaeg-oh-93071086/\"))\n",
    "print(new.shorten_url(\"https://www.linkedin.com/in/hyungtaeg-oh-93071086/\"))\n",
    "print(new.shorten_url(\"www.abcdefghijklmnopqrstuvwxyz.com/ohtack1234567890/yes/\"))\n",
    "                      \n",
    "                      \n",
    "                      "
   ]
  },
  {
   "cell_type": "code",
   "execution_count": null,
   "id": "1467d586",
   "metadata": {},
   "outputs": [],
   "source": []
  }
 ],
 "metadata": {
  "kernelspec": {
   "display_name": "Python 3",
   "language": "python",
   "name": "python3"
  },
  "language_info": {
   "codemirror_mode": {
    "name": "ipython",
    "version": 3
   },
   "file_extension": ".py",
   "mimetype": "text/x-python",
   "name": "python",
   "nbconvert_exporter": "python",
   "pygments_lexer": "ipython3",
   "version": "3.8.8"
  }
 },
 "nbformat": 4,
 "nbformat_minor": 5
}
